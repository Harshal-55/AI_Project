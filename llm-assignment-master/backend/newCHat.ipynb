{
 "cells": [
  {
   "cell_type": "code",
   "execution_count": 1,
   "metadata": {},
   "outputs": [
    {
     "name": "stderr",
     "output_type": "stream",
     "text": [
      "[nltk_data] Downloading package punkt to\n",
      "[nltk_data]     C:\\Users\\PC\\AppData\\Roaming\\nltk_data...\n",
      "[nltk_data]   Package punkt is already up-to-date!\n",
      "[nltk_data] Downloading package wordnet to\n",
      "[nltk_data]     C:\\Users\\PC\\AppData\\Roaming\\nltk_data...\n",
      "[nltk_data]   Package wordnet is already up-to-date!\n"
     ]
    },
    {
     "name": "stdout",
     "output_type": "stream",
     "text": [
      "Hello! I am the Learning bot. Start typing your text after greeting to talk to me. To end the conversation, type Bye!\n"
     ]
    },
    {
     "name": "stderr",
     "output_type": "stream",
     "text": [
      "c:\\Users\\PC\\AppData\\Local\\Programs\\Python\\Python312\\Lib\\site-packages\\sklearn\\feature_extraction\\text.py:525: UserWarning: The parameter 'token_pattern' will not be used since 'tokenizer' is not None'\n",
      "  warnings.warn(\n",
      "c:\\Users\\PC\\AppData\\Local\\Programs\\Python\\Python312\\Lib\\site-packages\\sklearn\\feature_extraction\\text.py:408: UserWarning: Your stop_words may be inconsistent with your preprocessing. Tokenizing the stop words generated tokens ['ha', 'le', 'u', 'wa'] not in stop_words.\n",
      "  warnings.warn(\n"
     ]
    },
    {
     "name": "stdout",
     "output_type": "stream",
     "text": [
      "Bot: I'm sorry, I couldn't understand your question.\n",
      "Bot: hi\n",
      "Bot: [31] in the tri-nation tournament involving kenya, india a and pakistan a, dhoni helped india a chase down their target of 223 against pakistan a with a half-century and scored scored 362 runs in six innings at an average of 72\n",
      "Bot: I'm sorry, I couldn't understand your question.\n",
      "Bot: hi\n",
      "Bot: mahendra singh dhoni ( born 7 july 1981) is an indian professional cricketer\n",
      "Bot: Goodbye!\n"
     ]
    }
   ],
   "source": [
    "import numpy as np\n",
    "import nltk\n",
    "import string\n",
    "import random\n",
    "from sklearn.feature_extraction.text import TfidfVectorizer\n",
    "from sklearn.metrics.pairwise import cosine_similarity\n",
    "\n",
    "# Function to read text from file\n",
    "def read_file(file_path):\n",
    "    try:\n",
    "        with open(file_path, 'r', errors='ignore') as f:\n",
    "            raw_doc = f.read()\n",
    "        return raw_doc.lower()\n",
    "    except FileNotFoundError:\n",
    "        print(\"File not found. Please enter a valid file path.\")\n",
    "        return None\n",
    "\n",
    "# Function to greet the user\n",
    "def greet(sentence):\n",
    "    greet_inputs = ('hello', 'hi', 'wassup', 'how are you?')\n",
    "    greet_responses = ('hi', 'hey', 'There there!', 'hey there!')\n",
    "    if sentence.lower() in greet_inputs:\n",
    "        return random.choice(greet_responses)\n",
    "\n",
    "# Function to lemmatize tokens\n",
    "def LemTokens(tokens):\n",
    "    lemmer = nltk.stem.WordNetLemmatizer()\n",
    "    return [lemmer.lemmatize(token) for token in tokens]\n",
    "\n",
    "# Function to normalize text\n",
    "def LemNormalize(text):\n",
    "    remove_punc_dict = dict((ord(punct), None) for punct in string.punctuation)\n",
    "    return LemTokens(nltk.word_tokenize(text.lower().translate(remove_punc_dict)))\n",
    "\n",
    "# Main function to generate bot responses\n",
    "def response(user_response):\n",
    "    global sentence_tokens\n",
    "    global raw_doc\n",
    "    \n",
    "    # Add user response to sentence tokens\n",
    "    sentence_tokens.append(user_response)\n",
    "    \n",
    "    # TF-IDF vectorization\n",
    "    TfidfVec = TfidfVectorizer(tokenizer=LemNormalize, stop_words='english')\n",
    "    tfidf = TfidfVec.fit_transform(sentence_tokens)\n",
    "    \n",
    "    # Calculate cosine similarity between user response and sentences in file\n",
    "    vals = cosine_similarity(tfidf[-1], tfidf[:-1])\n",
    "    idx = vals.argsort()[0][-1]\n",
    "    flat = vals.flatten()\n",
    "    flat.sort()\n",
    "    req_tfidf = flat[-1]\n",
    "    \n",
    "    # If no matching sentence found, return default response\n",
    "    if req_tfidf == 0:\n",
    "        return \"I'm sorry, I couldn't understand your question.\"\n",
    "    else:\n",
    "        return raw_doc.split('.')[idx]\n",
    "\n",
    "# Main code\n",
    "file_path = input(\"Enter the path or name of the file: \")\n",
    "raw_doc = read_file(file_path)\n",
    "\n",
    "if raw_doc:\n",
    "    # Tokenization and other preprocessing steps\n",
    "    nltk.download('punkt')\n",
    "    nltk.download('wordnet')\n",
    "    sentence_tokens = nltk.sent_tokenize(raw_doc)\n",
    "    \n",
    "    flag = True\n",
    "    print('Hello! I am the Learning bot. Start typing your text after greeting to talk to me. To end the conversation, type Bye!')\n",
    "    \n",
    "    while flag:\n",
    "        user_response = input().lower()\n",
    "        \n",
    "        if user_response != 'bye':\n",
    "            if user_response == 'thank you' or user_response == 'thanks':\n",
    "                flag = False\n",
    "                print('Bot: You are Welcome...')\n",
    "            else:\n",
    "                if greet(user_response) is not None:\n",
    "                    print('Bot:', greet(user_response))\n",
    "                else:\n",
    "                    print('Bot:', response(user_response))\n",
    "        else:\n",
    "            flag = False\n",
    "            print('Bot: Goodbye!')\n"
   ]
  },
  {
   "cell_type": "code",
   "execution_count": null,
   "metadata": {},
   "outputs": [],
   "source": []
  }
 ],
 "metadata": {
  "kernelspec": {
   "display_name": "Python 3",
   "language": "python",
   "name": "python3"
  },
  "language_info": {
   "codemirror_mode": {
    "name": "ipython",
    "version": 3
   },
   "file_extension": ".py",
   "mimetype": "text/x-python",
   "name": "python",
   "nbconvert_exporter": "python",
   "pygments_lexer": "ipython3",
   "version": "3.12.2"
  }
 },
 "nbformat": 4,
 "nbformat_minor": 2
}
